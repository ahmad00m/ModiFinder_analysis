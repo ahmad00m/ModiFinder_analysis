{
 "cells": [
  {
   "cell_type": "code",
   "execution_count": 1,
   "metadata": {},
   "outputs": [],
   "source": [
    "from figures_handler import method_colors as method_colors\n",
    "from figures_handler import method_names as method_names\n",
    "from figures_handler import colors as colors\n",
    "import matplotlib.patches as mpatches\n",
    "from pandas.plotting import table\n",
    "import matplotlib.image as mpimg\n",
    "import matplotlib.pyplot as plt\n",
    "import figures_handler as fh\n",
    "import seaborn as sns\n",
    "import pandas as pd\n",
    "import numpy as np\n",
    "import pickle\n",
    "import json\n",
    "import os"
   ]
  },
  {
   "cell_type": "code",
   "execution_count": 2,
   "metadata": {},
   "outputs": [
    {
     "data": {
      "text/html": [
       "<div>\n",
       "<style scoped>\n",
       "    .dataframe tbody tr th:only-of-type {\n",
       "        vertical-align: middle;\n",
       "    }\n",
       "\n",
       "    .dataframe tbody tr th {\n",
       "        vertical-align: top;\n",
       "    }\n",
       "\n",
       "    .dataframe thead th {\n",
       "        text-align: right;\n",
       "    }\n",
       "</style>\n",
       "<table border=\"1\" class=\"dataframe\">\n",
       "  <thead>\n",
       "    <tr style=\"text-align: right;\">\n",
       "      <th></th>\n",
       "      <th>Library</th>\n",
       "      <th>short_name</th>\n",
       "    </tr>\n",
       "  </thead>\n",
       "  <tbody>\n",
       "    <tr>\n",
       "      <th>0</th>\n",
       "      <td>GNPS-MSMLS</td>\n",
       "      <td>lib1</td>\n",
       "    </tr>\n",
       "    <tr>\n",
       "      <th>1</th>\n",
       "      <td>GNPS-NIH-NATURALPRODUCTSLIBRARY_ROUND2_POSITIVE</td>\n",
       "      <td>lib2</td>\n",
       "    </tr>\n",
       "    <tr>\n",
       "      <th>2</th>\n",
       "      <td>GNPS-NIH-SMALLMOLECULEPHARMACOLOGICALLYACTIVE</td>\n",
       "      <td>lib3</td>\n",
       "    </tr>\n",
       "    <tr>\n",
       "      <th>3</th>\n",
       "      <td>BERKELEY-LAB</td>\n",
       "      <td>lib4</td>\n",
       "    </tr>\n",
       "  </tbody>\n",
       "</table>\n",
       "</div>"
      ],
      "text/plain": [
       "                                           Library short_name\n",
       "0                                       GNPS-MSMLS       lib1\n",
       "1  GNPS-NIH-NATURALPRODUCTSLIBRARY_ROUND2_POSITIVE       lib2\n",
       "2    GNPS-NIH-SMALLMOLECULEPHARMACOLOGICALLYACTIVE       lib3\n",
       "3                                     BERKELEY-LAB       lib4"
      ]
     },
     "metadata": {},
     "output_type": "display_data"
    }
   ],
   "source": [
    "# get the project root\n",
    "dir_path = os.path.abspath('')\n",
    "project_root = os.path.abspath(os.path.join(dir_path, os.pardir))\n",
    "\n",
    "experiment_directory = os.path.join(project_root, 'experiments_settings', \"experiments_meta_helpers.csv\")\n",
    "data_folder, results_directory, matches_directory, libraries, library_names = fh.get_basic_data(project_root)\n",
    "\n",
    "display(libraries[['Library', 'short_name']])"
   ]
  },
  {
   "cell_type": "code",
   "execution_count": 3,
   "metadata": {},
   "outputs": [
    {
     "data": {
      "image/png": "[encoded data removed]",
      "text/plain": [
       "<Figure size 640x480 with 1 Axes>"
      ]
     },
     "metadata": {},
     "output_type": "display_data"
    }
   ],
   "source": [
    "path = os.path.join(results_directory, \"modification_count\", 'results.json')\n",
    "res = json.load(open(path))\n",
    "\n",
    "fig, ax = plt.subplots()\n",
    "x_axis_groups = ['precision', 'recall', 'accuracy']\n",
    "\n",
    "width = 1 / (len(libraries) + 2)\n",
    "legend = []\n",
    "\n",
    "cases = ['false_positives', 'false_negatives', 'true_positives', 'true_negatives']\n",
    "total = {case: 0 for case in cases}\n",
    "\n",
    "for index, row in libraries.iterrows():\n",
    "    library = row['Library']\n",
    "    short_name = row['short_name']\n",
    "\n",
    "    # draw the bars\n",
    "    for i, x_axis_group in enumerate(x_axis_groups):\n",
    "        x = i + index * width\n",
    "        y = res[library][x_axis_group]\n",
    "        ax.bar(x, y, color=colors[index], width=width, alpha=0.8)\n",
    "    \n",
    "    for case in cases:\n",
    "        total[case] += res[library][case]\n",
    "    \n",
    "    \n",
    "    # add the legend\n",
    "    legend.append(mpatches.Patch(color=colors[index], label=short_name, alpha=0.8))\n",
    "\n",
    "total['precision'] = total['true_positives'] / (total['true_positives'] + total['false_positives'])\n",
    "total['recall'] = total['true_positives'] / (total['true_positives'] + total['false_negatives'])\n",
    "total['accuracy'] = (total['true_positives'] + total['true_negatives']) / sum(total.values())\n",
    "\n",
    "for i, x_axis_group in enumerate(x_axis_groups):\n",
    "    x = i + len(libraries) * width\n",
    "    y = total[x_axis_group]\n",
    "    ax.bar(x, y, color= colors[len(libraries)], width=width)\n",
    "\n",
    "legend.append(mpatches.Patch(color=colors[len(libraries)], label='Total', alpha=0.8))\n",
    "\n",
    "\n",
    "ax.set_ylim(0, 1)\n",
    "ax.set_xticks(np.arange(len(x_axis_groups)) + len(x_axis_groups)/2 * width)\n",
    "x_axis_groups = [group.capitalize() for group in x_axis_groups]\n",
    "ax.set_xticklabels(x_axis_groups, fontsize=15)\n",
    "ax.set_ylabel('Score', fontsize=15)\n",
    "# update the font size\n",
    "ax.tick_params(axis='both', which='major', labelsize=13)\n",
    "\n",
    "# add the legend\n",
    "ax.legend(handles=legend, loc='upper center', bbox_to_anchor=(0.5, 1.1), ncol=3, fontsize=15)\n",
    "\n",
    "# remove the top and right spines\n",
    "ax.spines['top'].set_visible(False)\n",
    "ax.spines['right'].set_visible(False)\n"
   ]
  },
  {
   "cell_type": "code",
   "execution_count": 5,
   "metadata": {},
   "outputs": [
    {
     "name": "stdout",
     "output_type": "stream",
     "text": [
      "{'false_positives': 2364, 'false_negatives': 2052, 'true_positives': 5450, 'true_negatives': 1724, 'precision': 0.6974660865113899, 'recall': 0.7264729405491869, 'accuracy': 0.61890584260713}\n"
     ]
    }
   ],
   "source": [
    "print(total)"
   ]
  },
  {
   "cell_type": "code",
   "execution_count": null,
   "metadata": {},
   "outputs": [],
   "source": []
  }
 ],
 "metadata": {
  "kernelspec": {
   "display_name": "modi-finder-analysis",
   "language": "python",
   "name": "python3"
  },
  "language_info": {
   "codemirror_mode": {
    "name": "ipython",
    "version": 3
   },
   "file_extension": ".py",
   "mimetype": "text/x-python",
   "name": "python",
   "nbconvert_exporter": "python",
   "pygments_lexer": "ipython3",
   "version": "3.9.16"
  }
 },
 "nbformat": 4,
 "nbformat_minor": 2
}
